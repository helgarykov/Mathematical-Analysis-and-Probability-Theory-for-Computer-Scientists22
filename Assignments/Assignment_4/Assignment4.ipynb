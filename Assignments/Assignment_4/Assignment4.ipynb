{
 "cells": [
  {
   "cell_type": "markdown",
   "metadata": {},
   "source": [
    "## Template for Assignment 4, Exercise 4: Numerical Integration\n",
    "\n",
    "This is a template for doing Exercise 4 of the MASD 2020 Assignment 4. Please fill out the fields and function templates below, reading the data as below, in order to perform the exercise. Feel free to load extra functions, but note that built-in functions for doing the entire task are, as a general rule, not allowed. You are of course allowed to use built-in functions when it is explicitly asked for. Basic numpy functions such as `np.linspace` are also perfectly OK.\n",
    "\n",
    "If you are unsure how to interpret the template, or what you are allowed to do, please talk to your TA in the exercise sessions."
   ]
  },
  {
   "cell_type": "code",
   "execution_count": null,
   "metadata": {},
   "outputs": [],
   "source": [
    "# Importing packages -- feel free to add more, but recall that you should not use built-in \n",
    "# functions for the task at hand. \n",
    "import numpy as np\n",
    "import scipy as sp\n",
    "import matplotlib.pyplot as plt\n",
    "%matplotlib inline\n",
    "\n",
    "import matplotlib\n",
    "matplotlib.rcParams['figure.figsize'] = (20,10)"
   ]
  },
  {
   "cell_type": "markdown",
   "metadata": {},
   "source": [
    "**Exercise 4: Numerical integration** \n",
    "\n",
    "a) In the cell below, please implement a numerical approximation of the integral \n",
    "\n",
    "$g(x) = \\int_1^x \\frac1{s^2} ds$\n",
    "\n",
    "with variable step length $\\Delta s$. Use your numerical approximation to compute values of the function\n",
    "for $100$ evenly sampled values of $x$ between $x=1$ and $x=10$. Derive the analytical solution and plot your numerical approximation together with the analytical solution for step sizes $\\Delta s=1$, $\\Delta s=0.1$ and $\\Delta s=0.01$."
   ]
  },
  {
   "cell_type": "code",
   "execution_count": null,
   "metadata": {},
   "outputs": [],
   "source": []
  },
  {
   "cell_type": "code",
   "execution_count": null,
   "metadata": {},
   "outputs": [],
   "source": []
  },
  {
   "cell_type": "markdown",
   "metadata": {},
   "source": [
    "b) Use the numerical integration function `scipy.integrate.quad` to compute a plot for the integral. Plot the absolute difference between the analytical solution and the result of integrating with `scipy.integrate.quad` together with the absolute difference between the analytical solution and your numerical integration from a) with $\\Delta s=0.01$. Which methods performs best?\n",
    "\n",
    "See https://docs.scipy.org/doc/scipy/reference/generated/scipy.integrate.quad.html#scipy.integrate.quad for the parameters and output if needed."
   ]
  },
  {
   "cell_type": "code",
   "execution_count": null,
   "metadata": {},
   "outputs": [],
   "source": []
  },
  {
   "cell_type": "code",
   "execution_count": null,
   "metadata": {},
   "outputs": [],
   "source": []
  }
 ],
 "metadata": {
  "kernelspec": {
   "display_name": "Python 3 (ipykernel)",
   "language": "python",
   "name": "python3"
  },
  "language_info": {
   "codemirror_mode": {
    "name": "ipython",
    "version": 3
   },
   "file_extension": ".py",
   "mimetype": "text/x-python",
   "name": "python",
   "nbconvert_exporter": "python",
   "pygments_lexer": "ipython3",
   "version": "3.9.14"
  }
 },
 "nbformat": 4,
 "nbformat_minor": 2
}
